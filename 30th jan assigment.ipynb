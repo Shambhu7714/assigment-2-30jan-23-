{
 "cells": [
  {
   "attachments": {},
   "cell_type": "markdown",
   "metadata": {},
   "source": [
    "write a programto rpint the student grade according to given data "
   ]
  },
  {
   "cell_type": "code",
   "execution_count": null,
   "metadata": {},
   "outputs": [],
   "source": [
    "number = int(input(\" enter the number\"))\n",
    "if number >90:\n",
    "    print(\" grade A\")\n",
    "elif number >80 and number <=90:\n",
    "    print(\"grade B\")\n",
    "elif number >=60 and number <=80:\n",
    "    print(\"grare C \")\n",
    "elif number:\n",
    "    print(\"grade D\")"
   ]
  },
  {
   "attachments": {},
   "cell_type": "markdown",
   "metadata": {},
   "source": [
    "02. write a program to accept the cost price of a bike and display the road tax to be paid according to the following criteia:"
   ]
  },
  {
   "cell_type": "code",
   "execution_count": null,
   "metadata": {},
   "outputs": [],
   "source": [
    "cost_price= float(input(\" enter the amount\"))\n",
    "if cost_price >100000:\n",
    "    tax=0.15\n",
    "elif cost_price >50000 and cost_price<=100000:\n",
    "    tax= 0.10\n",
    "elif cost_price <=50000:\n",
    "    tax=0.05\n",
    "amount= cost_price*tax\n",
    "print(\"cost of amount paid by user\",amount)\n",
    "\n"
   ]
  },
  {
   "attachments": {},
   "cell_type": "markdown",
   "metadata": {},
   "source": [
    "03. write a program to accept any city from user and display momuments of that city?"
   ]
  },
  {
   "cell_type": "code",
   "execution_count": null,
   "metadata": {},
   "outputs": [],
   "source": [
    "city=str(input(\"enter the city name \"))\n",
    "if city == \"delhi\":\n",
    "    print(\"Red Fort\")\n",
    "elif city == \"agra\":\n",
    "    print(\"Taj Mahal\")\n",
    "elif city == \"jaipur\" :\n",
    "    print(\" Jai Mahal\")\n",
    "else:\n",
    "    print(\" enter a viled city\")\n",
    "    \n"
   ]
  },
  {
   "attachments": {},
   "cell_type": "markdown",
   "metadata": {},
   "source": [
    "4. check how many times a given number can be divided by 3 before it less tahn or equal to 10."
   ]
  },
  {
   "cell_type": "code",
   "execution_count": null,
   "metadata": {},
   "outputs": [],
   "source": [
    "number= int(input(\"enter a number \"))\n",
    "div=10\n",
    "num=number/3\n",
    "if num<div:\n",
    "        print(\"number is divisual by 3 and total\", num)\n",
    "else:\n",
    "    print(\" not divid by 3 \")"
   ]
  },
  {
   "attachments": {},
   "cell_type": "markdown",
   "metadata": {},
   "source": [
    "05. why and when use to use to while loop in python given a detail description with example"
   ]
  },
  {
   "attachments": {},
   "cell_type": "markdown",
   "metadata": {},
   "source": [
    " while loop is used to run a block code until a certain condition is met. Here, A while loop evaluates the condition. If the condition evaluates to True , the code inside the while loop is executed."
   ]
  },
  {
   "cell_type": "code",
   "execution_count": 1,
   "metadata": {},
   "outputs": [
    {
     "name": "stdout",
     "output_type": "stream",
     "text": [
      "shambhu\n",
      "shambhu\n",
      "shambhu\n",
      "shambhu\n",
      "shambhu\n",
      "shambhu\n",
      "shambhu\n",
      "shambhu\n",
      "shambhu\n",
      "shambhu\n"
     ]
    }
   ],
   "source": [
    "#example\n",
    "i=1\n",
    "while i<=10:\n",
    "    print(\"shambhu\")\n",
    "    i+=1"
   ]
  },
  {
   "attachments": {},
   "cell_type": "markdown",
   "metadata": {},
   "source": [
    "6. use nested while loop to print 3 different pateern\n"
   ]
  },
  {
   "cell_type": "code",
   "execution_count": null,
   "metadata": {},
   "outputs": [],
   "source": [
    "num=15\n",
    "for i in range(1, 11):\n",
    "    print(' '*num, end='') \n",
    "    print('* '*(i)) \n",
    "    num-=1"
   ]
  },
  {
   "cell_type": "code",
   "execution_count": null,
   "metadata": {},
   "outputs": [],
   "source": [
    "num=15\n",
    "for i in range(1, 11):\n",
    "    print(' '*num, end='') \n",
    "    print('* '*(i)) "
   ]
  },
  {
   "cell_type": "code",
   "execution_count": null,
   "metadata": {},
   "outputs": [],
   "source": [
    "num=15;i=0\n",
    "while(i<=num):\n",
    "  print(\" \" * (num - i) +\"*\" * i)\n",
    "  i+=1"
   ]
  },
  {
   "attachments": {},
   "cell_type": "markdown",
   "metadata": {},
   "source": [
    "7. reverse a while loop to display number grom 10 to 1."
   ]
  },
  {
   "cell_type": "code",
   "execution_count": null,
   "metadata": {},
   "outputs": [],
   "source": [
    "i=10\n",
    "while i>=1:\n",
    "    print(i)\n",
    "    i=i-1"
   ]
  },
  {
   "attachments": {},
   "cell_type": "markdown",
   "metadata": {},
   "source": [
    "8. reverse a while loop to display number grom 10 to 1."
   ]
  },
  {
   "cell_type": "code",
   "execution_count": null,
   "metadata": {},
   "outputs": [],
   "source": [
    "i=10\n",
    "while i>=1:\n",
    "    print(i)\n",
    "    i=i-1"
   ]
  }
 ],
 "metadata": {
  "kernelspec": {
   "display_name": "Python 3",
   "language": "python",
   "name": "python3"
  },
  "language_info": {
   "codemirror_mode": {
    "name": "ipython",
    "version": 3
   },
   "file_extension": ".py",
   "mimetype": "text/x-python",
   "name": "python",
   "nbconvert_exporter": "python",
   "pygments_lexer": "ipython3",
   "version": "3.11.1"
  },
  "orig_nbformat": 4,
  "vscode": {
   "interpreter": {
    "hash": "76b638099fd976178d1defa431b4ece7b6b384b252805d347f2da0acb714ec23"
   }
  }
 },
 "nbformat": 4,
 "nbformat_minor": 2
}
